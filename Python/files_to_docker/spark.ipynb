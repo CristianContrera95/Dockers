{
 "cells": [
  {
   "cell_type": "code",
   "execution_count": 7,
   "metadata": {},
   "outputs": [],
   "source": [
    "#pip freeze"
   ]
  },
  {
   "cell_type": "code",
   "execution_count": 8,
   "metadata": {},
   "outputs": [],
   "source": [
    "#pip install *package_name*"
   ]
  },
  {
   "cell_type": "code",
   "execution_count": 9,
   "metadata": {},
   "outputs": [],
   "source": [
    "from pyspark.sql import SparkSession\n",
    "from pyspark.sql import functions as f"
   ]
  },
  {
   "cell_type": "code",
   "execution_count": 10,
   "metadata": {},
   "outputs": [],
   "source": [
    "spark = SparkSession.builder.appName('mi_app').getOrCreate()"
   ]
  },
  {
   "cell_type": "code",
   "execution_count": 11,
   "metadata": {},
   "outputs": [],
   "source": [
    "sc = spark.sparkContext"
   ]
  },
  {
   "cell_type": "code",
   "execution_count": 12,
   "metadata": {},
   "outputs": [
    {
     "data": {
      "text/html": [
       "\n",
       "            <div>\n",
       "                <p><b>SparkSession - in-memory</b></p>\n",
       "                \n",
       "        <div>\n",
       "            <p><b>SparkContext</b></p>\n",
       "\n",
       "            <p><a href=\"http://4451f1142063:4040\">Spark UI</a></p>\n",
       "\n",
       "            <dl>\n",
       "              <dt>Version</dt>\n",
       "                <dd><code>v2.4.4</code></dd>\n",
       "              <dt>Master</dt>\n",
       "                <dd><code>local[*]</code></dd>\n",
       "              <dt>AppName</dt>\n",
       "                <dd><code>mi_app</code></dd>\n",
       "            </dl>\n",
       "        </div>\n",
       "        \n",
       "            </div>\n",
       "        "
      ],
      "text/plain": [
       "<pyspark.sql.session.SparkSession at 0x7f712a579da0>"
      ]
     },
     "execution_count": 12,
     "metadata": {},
     "output_type": "execute_result"
    }
   ],
   "source": [
    "spark"
   ]
  },
  {
   "cell_type": "code",
   "execution_count": 13,
   "metadata": {},
   "outputs": [
    {
     "name": "stdout",
     "output_type": "stream",
     "text": [
      "dataset.csv  juan.csv  test.csv\n"
     ]
    }
   ],
   "source": [
    "ls ../../../TMS/tmp_files/"
   ]
  },
  {
   "cell_type": "code",
   "execution_count": 14,
   "metadata": {},
   "outputs": [],
   "source": [
    "df = spark.read.csv('../../../TMS/tmp_files/dataset.csv', header=True)"
   ]
  },
  {
   "cell_type": "code",
   "execution_count": 15,
   "metadata": {},
   "outputs": [
    {
     "data": {
      "text/plain": [
       "DataFrame[record_id: string, dealer_id: string, vin: string, ro_number: string, ro_close_date: string, service_category: string, operation_payment_type: string, operation_parts_cost: string, vehicle_make_name: string, vehicle_model_code: string, vehicle_model_name: string, operation_labour_cost: string, operation_misc_cost: string, ro_total: string, customer_pay_ro_total: string, internal_pay_ro_total: string, warranty_pay_ro_total: string, error_code: string, is_reject_record: string, is_warning_record: string, mileage: string, customer_owner_type: string, customer_owner_id: string]"
      ]
     },
     "execution_count": 15,
     "metadata": {},
     "output_type": "execute_result"
    }
   ],
   "source": [
    "df"
   ]
  },
  {
   "cell_type": "code",
   "execution_count": 17,
   "metadata": {},
   "outputs": [],
   "source": [
    "df = df.select('record_id', 'dealer_id', 'ro_number', 'service_category', 'operation_payment_type', 'operation_parts_cost', 'operation_labour_cost', 'operation_misc_cost')"
   ]
  },
  {
   "cell_type": "code",
   "execution_count": 18,
   "metadata": {},
   "outputs": [
    {
     "name": "stdout",
     "output_type": "stream",
     "text": [
      "+-----------+---------+-----------+----------------+----------------------+--------------------+---------------------+-------------------+\n",
      "|  record_id|dealer_id|  ro_number|service_category|operation_payment_type|operation_parts_cost|operation_labour_cost|operation_misc_cost|\n",
      "+-----------+---------+-----------+----------------+----------------------+--------------------+---------------------+-------------------+\n",
      "| 1159221442|  0434300|      44317|              33|                     C|             2032.33|              2706.00|               0.00|\n",
      "| 1159221443|  1606100|   60K60970|              33|                     C|              572.09|              1245.60|             635.00|\n",
      "| 1159221441|  1117600|NR004093-01|              33|                     C|             1355.58|              1155.00|              79.90|\n",
      "| 1159221444|  1606100|   60K59750|              33|                     C|              251.41|              1107.20|             834.71|\n",
      "| 1159221447|  3357600|NO000670-01|              33|                     C|             2684.69|              1417.35|               0.00|\n",
      "| 1159221448|  3376000|       5412|              35|                     C|              592.80|              1380.00|             150.00|\n",
      "| 1159221449|  3342300|   88P83770|              33|                     C|             1060.65|              8443.75|             210.00|\n",
      "|11592214410|  0307600|    1309932|              33|                     C|             3913.79|              2960.00|             260.86|\n",
      "|11592214411|  1407500|   11N46410|              33|                     C|             2715.42|              3708.00|             595.19|\n",
      "|11592214412|  1407500|   11N43760|              33|                     C|            10893.33|              4420.80|             593.33|\n",
      "| 1159221445|  1606100|   60K58630|              33|                     C|              251.41|              1591.60|             765.00|\n",
      "| 1159221446|  3357600|NO000773-01|              33|                     C|             1997.81|              1950.00|             120.00|\n",
      "|11592214413|  1221100|   18Z85370|              35|                     C|            21982.83|              3672.00|             150.70|\n",
      "|11592214414|  2103000|RN039500-01|              35|                     C|             5667.37|              5610.00|            1973.74|\n",
      "|11592214418|  1507900|NO001975-02|              33|                     C|             1496.21|              1612.00|             180.00|\n",
      "|11592214417|  0600400|   84N25260|              16|                     C|                0.00|              3960.00|             125.00|\n",
      "|11592214419|  0208400|   37I50510|              33|                     C|             1121.11|              1876.10|             789.98|\n",
      "|11592214420|  3357600|NO000743-01|              33|                     C|             1499.85|              1300.00|             120.00|\n",
      "|11592214415|  1236400|    1670246|              33|                     C|                0.00|                 0.00|            4144.00|\n",
      "|11592214416|  2008600|RN622215-01|              33|                     C|             1670.29|              2100.00|             100.00|\n",
      "+-----------+---------+-----------+----------------+----------------------+--------------------+---------------------+-------------------+\n",
      "only showing top 20 rows\n",
      "\n"
     ]
    }
   ],
   "source": [
    "df.show()"
   ]
  },
  {
   "cell_type": "code",
   "execution_count": 22,
   "metadata": {},
   "outputs": [
    {
     "data": {
      "text/plain": [
       "7772"
      ]
     },
     "execution_count": 22,
     "metadata": {},
     "output_type": "execute_result"
    }
   ],
   "source": [
    "df.select('record_id').count()"
   ]
  },
  {
   "cell_type": "code",
   "execution_count": 25,
   "metadata": {},
   "outputs": [
    {
     "data": {
      "text/plain": [
       "361000"
      ]
     },
     "execution_count": 25,
     "metadata": {},
     "output_type": "execute_result"
    }
   ],
   "source": [
    "2000*60 + 1500*70 + 600*60 + 100000"
   ]
  },
  {
   "cell_type": "code",
   "execution_count": 26,
   "metadata": {},
   "outputs": [
    {
     "data": {
      "text/plain": [
       "239000"
      ]
     },
     "execution_count": 26,
     "metadata": {},
     "output_type": "execute_result"
    }
   ],
   "source": [
    "600000 - 361000"
   ]
  },
  {
   "cell_type": "code",
   "execution_count": 27,
   "metadata": {},
   "outputs": [
    {
     "data": {
      "text/plain": [
       "3983.3333333333335"
      ]
     },
     "execution_count": 27,
     "metadata": {},
     "output_type": "execute_result"
    }
   ],
   "source": [
    "239000/60"
   ]
  },
  {
   "cell_type": "code",
   "execution_count": null,
   "metadata": {},
   "outputs": [],
   "source": []
  },
  {
   "cell_type": "code",
   "execution_count": null,
   "metadata": {},
   "outputs": [],
   "source": []
  },
  {
   "cell_type": "code",
   "execution_count": null,
   "metadata": {},
   "outputs": [],
   "source": []
  }
 ],
 "metadata": {
  "kernelspec": {
   "display_name": "Python 3",
   "language": "python",
   "name": "python3"
  },
  "language_info": {
   "codemirror_mode": {
    "name": "ipython",
    "version": 3
   },
   "file_extension": ".py",
   "mimetype": "text/x-python",
   "name": "python",
   "nbconvert_exporter": "python",
   "pygments_lexer": "ipython3",
   "version": "3.7.3"
  }
 },
 "nbformat": 4,
 "nbformat_minor": 4
}
